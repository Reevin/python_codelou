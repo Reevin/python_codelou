{
 "cells": [
  {
   "cell_type": "code",
   "execution_count": 1,
   "metadata": {},
   "outputs": [
    {
     "data": {
      "text/plain": "'c:\\\\Users\\\\Stephen\\\\Documents\\\\Coding\\\\github\\\\python_codelou'"
     },
     "execution_count": 1,
     "metadata": {},
     "output_type": "execute_result"
    }
   ],
   "source": [
    "import pandas as pd\n",
    "import zipfile as z\n",
    "import numpy as np\n",
    "import matplotlib.pyplot as plt\n",
    "import os\n",
    "\n",
    "os.getcwd()"
   ]
  },
  {
   "cell_type": "code",
   "execution_count": 2,
   "metadata": {},
   "outputs": [],
   "source": [
    "zf = z.ZipFile(\"Data/FoodServiceData2020.zip\",\"r\")\n",
    "zf.extractall(\"Data\")\n",
    "zf.close()"
   ]
  },
  {
   "cell_type": "code",
   "execution_count": 3,
   "metadata": {},
   "outputs": [],
   "source": [
    "scores_raw = pd.read_csv(\"Data/FoodServiceData2020.csv\", header=0)"
   ]
  },
  {
   "cell_type": "code",
   "execution_count": 4,
   "metadata": {},
   "outputs": [
    {
     "name": "stdout",
     "output_type": "stream",
     "text": "File deleted\n"
    }
   ],
   "source": [
    "# using os, we delete the big csv, if exists\n",
    "target_file = \"Data/FoodServiceData2020.csv\"\n",
    "  \n",
    "if os.path.isfile(target_file): \n",
    "    os.remove(target_file) \n",
    "    print(\"File deleted\") \n",
    "else: \n",
    "    print(f'\"{target_file}\" not found')"
   ]
  },
  {
   "cell_type": "code",
   "execution_count": 5,
   "metadata": {},
   "outputs": [
    {
     "data": {
      "text/html": "<div>\n<style scoped>\n    .dataframe tbody tr th:only-of-type {\n        vertical-align: middle;\n    }\n\n    .dataframe tbody tr th {\n        vertical-align: top;\n    }\n\n    .dataframe thead th {\n        text-align: right;\n    }\n</style>\n<table border=\"1\" class=\"dataframe\">\n  <thead>\n    <tr style=\"text-align: right;\">\n      <th></th>\n      <th>ID</th>\n      <th>Business Name</th>\n      <th>Address</th>\n      <th>City</th>\n      <th>State</th>\n      <th>Zip</th>\n      <th>Latitude</th>\n      <th>Longitude</th>\n      <th>Inspection Date</th>\n      <th>Score</th>\n      <th>Grade</th>\n    </tr>\n  </thead>\n  <tbody>\n    <tr>\n      <th>0</th>\n      <td>102736</td>\n      <td>KIDS CAFE PARKHILL COMMUNITY CENTER</td>\n      <td>1703 S 13TH ST</td>\n      <td>LOUISVILLE</td>\n      <td>KY</td>\n      <td>40210</td>\n      <td>38.2243</td>\n      <td>-85.7769</td>\n      <td>2019-05-23 00:00:00</td>\n      <td>98.0</td>\n      <td>NaN</td>\n    </tr>\n    <tr>\n      <th>1</th>\n      <td>85040</td>\n      <td>WAFFLE HOUSE #174</td>\n      <td>2805 FERN VALLEY RD</td>\n      <td>LOUISVILLE</td>\n      <td>KY</td>\n      <td>40213</td>\n      <td>38.1572</td>\n      <td>-85.7123</td>\n      <td>2019-06-05 00:00:00</td>\n      <td>85.0</td>\n      <td>C</td>\n    </tr>\n    <tr>\n      <th>2</th>\n      <td>96242</td>\n      <td>PERFECT ANGELS DAYCARE</td>\n      <td>3845 CANE RUN RD</td>\n      <td>LOUISVILLE</td>\n      <td>KY</td>\n      <td>40211</td>\n      <td>38.2154</td>\n      <td>-85.8179</td>\n      <td>2019-06-05 00:00:00</td>\n      <td>100.0</td>\n      <td>A</td>\n    </tr>\n    <tr>\n      <th>3</th>\n      <td>98058</td>\n      <td>MORNING POINTE OF LOUISVILLE</td>\n      <td>4711 S HURSTBOURNE PKWY</td>\n      <td>LOUISVILLE</td>\n      <td>KY</td>\n      <td>40291</td>\n      <td>38.1837</td>\n      <td>-85.6068</td>\n      <td>2019-06-05 00:00:00</td>\n      <td>93.0</td>\n      <td>C</td>\n    </tr>\n    <tr>\n      <th>4</th>\n      <td>70009</td>\n      <td>CRACKER BARREL #522</td>\n      <td>10150 BROOKRIDGE VILLAGE BLVD</td>\n      <td>LOUISVILLE</td>\n      <td>KY</td>\n      <td>40291</td>\n      <td>38.1445</td>\n      <td>-85.5837</td>\n      <td>2019-06-05 00:00:00</td>\n      <td>100.0</td>\n      <td>NaN</td>\n    </tr>\n    <tr>\n      <th>...</th>\n      <td>...</td>\n      <td>...</td>\n      <td>...</td>\n      <td>...</td>\n      <td>...</td>\n      <td>...</td>\n      <td>...</td>\n      <td>...</td>\n      <td>...</td>\n      <td>...</td>\n      <td>...</td>\n    </tr>\n    <tr>\n      <th>9569</th>\n      <td>37691</td>\n      <td>PENDENNIS CLUB BAR</td>\n      <td>218 W MUHAMMAD ALI BLVD</td>\n      <td>LOUISVILLE</td>\n      <td>KY</td>\n      <td>40202</td>\n      <td>38.2505</td>\n      <td>-85.7550</td>\n      <td>2019-05-07 00:00:00</td>\n      <td>99.0</td>\n      <td>A</td>\n    </tr>\n    <tr>\n      <th>9570</th>\n      <td>107796</td>\n      <td>THORNTONS #61</td>\n      <td>2000 S 7TH ST</td>\n      <td>LOUISVILLE</td>\n      <td>KY</td>\n      <td>40208</td>\n      <td>38.2200</td>\n      <td>-84.7779</td>\n      <td>2019-05-06 00:00:00</td>\n      <td>97.0</td>\n      <td>NaN</td>\n    </tr>\n    <tr>\n      <th>9571</th>\n      <td>84024</td>\n      <td>RAINBOW BLOSSOM</td>\n      <td>3046 BARDSTOWN RD</td>\n      <td>LOUISVILLE</td>\n      <td>KY</td>\n      <td>40205</td>\n      <td>38.2141</td>\n      <td>-85.6736</td>\n      <td>2019-05-07 00:00:00</td>\n      <td>99.0</td>\n      <td>NaN</td>\n    </tr>\n    <tr>\n      <th>9572</th>\n      <td>94447</td>\n      <td>META</td>\n      <td>425 W CHESTNUT ST</td>\n      <td>LOUISVILLE</td>\n      <td>KY</td>\n      <td>40202</td>\n      <td>38.2493</td>\n      <td>-85.6382</td>\n      <td>2019-05-01 00:00:00</td>\n      <td>NaN</td>\n      <td>NaN</td>\n    </tr>\n    <tr>\n      <th>9573</th>\n      <td>99305</td>\n      <td>OLD LOUISVILLE BREWERY</td>\n      <td>625 W MAGNOLIA ST</td>\n      <td>LOUISVILLE</td>\n      <td>KY</td>\n      <td>40208</td>\n      <td>38.2299</td>\n      <td>-85.7658</td>\n      <td>2019-05-01 00:00:00</td>\n      <td>NaN</td>\n      <td>NaN</td>\n    </tr>\n  </tbody>\n</table>\n<p>9574 rows × 11 columns</p>\n</div>",
      "text/plain": "          ID                        Business Name  \\\n0     102736  KIDS CAFE PARKHILL COMMUNITY CENTER   \n1      85040                    WAFFLE HOUSE #174   \n2      96242               PERFECT ANGELS DAYCARE   \n3      98058         MORNING POINTE OF LOUISVILLE   \n4      70009                  CRACKER BARREL #522   \n...      ...                                  ...   \n9569   37691                   PENDENNIS CLUB BAR   \n9570  107796                        THORNTONS #61   \n9571   84024                      RAINBOW BLOSSOM   \n9572   94447                                 META   \n9573   99305               OLD LOUISVILLE BREWERY   \n\n                            Address        City State    Zip  Latitude  \\\n0                    1703 S 13TH ST  LOUISVILLE    KY  40210   38.2243   \n1               2805 FERN VALLEY RD  LOUISVILLE    KY  40213   38.1572   \n2                  3845 CANE RUN RD  LOUISVILLE    KY  40211   38.2154   \n3           4711 S HURSTBOURNE PKWY  LOUISVILLE    KY  40291   38.1837   \n4     10150 BROOKRIDGE VILLAGE BLVD  LOUISVILLE    KY  40291   38.1445   \n...                             ...         ...   ...    ...       ...   \n9569        218 W MUHAMMAD ALI BLVD  LOUISVILLE    KY  40202   38.2505   \n9570                  2000 S 7TH ST  LOUISVILLE    KY  40208   38.2200   \n9571              3046 BARDSTOWN RD  LOUISVILLE    KY  40205   38.2141   \n9572              425 W CHESTNUT ST  LOUISVILLE    KY  40202   38.2493   \n9573              625 W MAGNOLIA ST  LOUISVILLE    KY  40208   38.2299   \n\n      Longitude      Inspection Date  Score Grade  \n0      -85.7769  2019-05-23 00:00:00   98.0   NaN  \n1      -85.7123  2019-06-05 00:00:00   85.0     C  \n2      -85.8179  2019-06-05 00:00:00  100.0     A  \n3      -85.6068  2019-06-05 00:00:00   93.0     C  \n4      -85.5837  2019-06-05 00:00:00  100.0   NaN  \n...         ...                  ...    ...   ...  \n9569   -85.7550  2019-05-07 00:00:00   99.0     A  \n9570   -84.7779  2019-05-06 00:00:00   97.0   NaN  \n9571   -85.6736  2019-05-07 00:00:00   99.0   NaN  \n9572   -85.6382  2019-05-01 00:00:00    NaN   NaN  \n9573   -85.7658  2019-05-01 00:00:00    NaN   NaN  \n\n[9574 rows x 11 columns]"
     },
     "execution_count": 5,
     "metadata": {},
     "output_type": "execute_result"
    }
   ],
   "source": [
    "to_drop = [\"InspectionID\", \"PlaceName\", \"Address2\", \"TypeDescription\", \"NameSearch\", \"Intersection\"]\n",
    "\n",
    "scores_raw.drop(columns=to_drop, inplace=True)\n",
    "\n",
    "new_names = {\"EstablishmentID\": \"ID\",\n",
    "            \"EstablishmentName\": \"Business Name\",\n",
    "            \"InspectionDate\": \"Inspection Date\"}\n",
    "\n",
    "scores_raw.rename(columns=new_names, inplace=True)\n",
    "\n",
    "scores_raw.head(-10)"
   ]
  },
  {
   "cell_type": "code",
   "execution_count": 6,
   "metadata": {},
   "outputs": [
    {
     "data": {
      "text/html": "<div>\n<style scoped>\n    .dataframe tbody tr th:only-of-type {\n        vertical-align: middle;\n    }\n\n    .dataframe tbody tr th {\n        vertical-align: top;\n    }\n\n    .dataframe thead th {\n        text-align: right;\n    }\n</style>\n<table border=\"1\" class=\"dataframe\">\n  <thead>\n    <tr style=\"text-align: right;\">\n      <th></th>\n      <th>ID</th>\n      <th>Business Name</th>\n      <th>Address</th>\n      <th>City</th>\n      <th>State</th>\n      <th>Zip</th>\n      <th>Latitude</th>\n      <th>Longitude</th>\n      <th>Inspection Date</th>\n      <th>Score</th>\n      <th>Grade</th>\n    </tr>\n  </thead>\n  <tbody>\n    <tr>\n      <th>1</th>\n      <td>85040</td>\n      <td>WAFFLE HOUSE #174</td>\n      <td>2805 FERN VALLEY RD</td>\n      <td>LOUISVILLE</td>\n      <td>KY</td>\n      <td>40213</td>\n      <td>38.1572</td>\n      <td>-85.7123</td>\n      <td>2019-06-05 00:00:00</td>\n      <td>85.0</td>\n      <td>C</td>\n    </tr>\n    <tr>\n      <th>2</th>\n      <td>96242</td>\n      <td>PERFECT ANGELS DAYCARE</td>\n      <td>3845 CANE RUN RD</td>\n      <td>LOUISVILLE</td>\n      <td>KY</td>\n      <td>40211</td>\n      <td>38.2154</td>\n      <td>-85.8179</td>\n      <td>2019-06-05 00:00:00</td>\n      <td>100.0</td>\n      <td>A</td>\n    </tr>\n    <tr>\n      <th>3</th>\n      <td>98058</td>\n      <td>MORNING POINTE OF LOUISVILLE</td>\n      <td>4711 S HURSTBOURNE PKWY</td>\n      <td>LOUISVILLE</td>\n      <td>KY</td>\n      <td>40291</td>\n      <td>38.1837</td>\n      <td>-85.6068</td>\n      <td>2019-06-05 00:00:00</td>\n      <td>93.0</td>\n      <td>C</td>\n    </tr>\n    <tr>\n      <th>5</th>\n      <td>100140</td>\n      <td>VILLE GRILL</td>\n      <td>2100 S FLOYD ST</td>\n      <td>LOUISVILLE</td>\n      <td>KY</td>\n      <td>40208</td>\n      <td>38.2178</td>\n      <td>-85.7556</td>\n      <td>2019-06-05 00:00:00</td>\n      <td>96.0</td>\n      <td>A</td>\n    </tr>\n    <tr>\n      <th>6</th>\n      <td>33602</td>\n      <td>MCDONALD'S #6859</td>\n      <td>7426 OLD 3RD STREET RD</td>\n      <td>LOUISVILLE</td>\n      <td>KY</td>\n      <td>40214</td>\n      <td>38.1448</td>\n      <td>-85.7772</td>\n      <td>2019-06-05 00:00:00</td>\n      <td>94.0</td>\n      <td>A</td>\n    </tr>\n    <tr>\n      <th>7</th>\n      <td>102587</td>\n      <td>DIAMOND STATION</td>\n      <td>2280 BARDSTOWN RD</td>\n      <td>LOUISVILLE</td>\n      <td>KY</td>\n      <td>40205</td>\n      <td>38.2240</td>\n      <td>-85.6915</td>\n      <td>2019-06-05 00:00:00</td>\n      <td>99.0</td>\n      <td>A</td>\n    </tr>\n    <tr>\n      <th>8</th>\n      <td>33901</td>\n      <td>AUDUBON HOSPITAL FOOD SERVICE</td>\n      <td>1 AUDUBON PLAZA</td>\n      <td>LOUISVILLE</td>\n      <td>KY</td>\n      <td>40217</td>\n      <td>38.2151</td>\n      <td>-85.7216</td>\n      <td>2019-06-05 00:00:00</td>\n      <td>99.0</td>\n      <td>A</td>\n    </tr>\n    <tr>\n      <th>9</th>\n      <td>106417</td>\n      <td>AUDUBON HOSPITAL BISTRO</td>\n      <td>1 AUDUBON PLAZA</td>\n      <td>LOUISVILLE</td>\n      <td>KY</td>\n      <td>40217</td>\n      <td>38.2151</td>\n      <td>-85.7226</td>\n      <td>2019-06-05 00:00:00</td>\n      <td>100.0</td>\n      <td>A</td>\n    </tr>\n    <tr>\n      <th>10</th>\n      <td>84635</td>\n      <td>TARGET T-2473 STARBUCKS</td>\n      <td>4174 WESTPORT RD</td>\n      <td>LOUISVILLE</td>\n      <td>KY</td>\n      <td>40207</td>\n      <td>38.2584</td>\n      <td>-85.6449</td>\n      <td>2019-06-27 00:00:00</td>\n      <td>100.0</td>\n      <td>A</td>\n    </tr>\n    <tr>\n      <th>11</th>\n      <td>100525</td>\n      <td>CACTUS JACKS</td>\n      <td>3640 TAYLOR BLVD</td>\n      <td>LOUISVILLE</td>\n      <td>KY</td>\n      <td>40215</td>\n      <td>38.1925</td>\n      <td>-85.7837</td>\n      <td>2019-06-26 00:00:00</td>\n      <td>96.0</td>\n      <td>A</td>\n    </tr>\n  </tbody>\n</table>\n</div>",
      "text/plain": "        ID                  Business Name                  Address  \\\n1    85040              WAFFLE HOUSE #174      2805 FERN VALLEY RD   \n2    96242         PERFECT ANGELS DAYCARE         3845 CANE RUN RD   \n3    98058   MORNING POINTE OF LOUISVILLE  4711 S HURSTBOURNE PKWY   \n5   100140                    VILLE GRILL          2100 S FLOYD ST   \n6    33602               MCDONALD'S #6859   7426 OLD 3RD STREET RD   \n7   102587                DIAMOND STATION        2280 BARDSTOWN RD   \n8    33901  AUDUBON HOSPITAL FOOD SERVICE          1 AUDUBON PLAZA   \n9   106417        AUDUBON HOSPITAL BISTRO          1 AUDUBON PLAZA   \n10   84635        TARGET T-2473 STARBUCKS         4174 WESTPORT RD   \n11  100525                   CACTUS JACKS         3640 TAYLOR BLVD   \n\n          City State    Zip  Latitude  Longitude      Inspection Date  Score  \\\n1   LOUISVILLE    KY  40213   38.1572   -85.7123  2019-06-05 00:00:00   85.0   \n2   LOUISVILLE    KY  40211   38.2154   -85.8179  2019-06-05 00:00:00  100.0   \n3   LOUISVILLE    KY  40291   38.1837   -85.6068  2019-06-05 00:00:00   93.0   \n5   LOUISVILLE    KY  40208   38.2178   -85.7556  2019-06-05 00:00:00   96.0   \n6   LOUISVILLE    KY  40214   38.1448   -85.7772  2019-06-05 00:00:00   94.0   \n7   LOUISVILLE    KY  40205   38.2240   -85.6915  2019-06-05 00:00:00   99.0   \n8   LOUISVILLE    KY  40217   38.2151   -85.7216  2019-06-05 00:00:00   99.0   \n9   LOUISVILLE    KY  40217   38.2151   -85.7226  2019-06-05 00:00:00  100.0   \n10  LOUISVILLE    KY  40207   38.2584   -85.6449  2019-06-27 00:00:00  100.0   \n11  LOUISVILLE    KY  40215   38.1925   -85.7837  2019-06-26 00:00:00   96.0   \n\n   Grade  \n1      C  \n2      A  \n3      C  \n5      A  \n6      A  \n7      A  \n8      A  \n9      A  \n10     A  \n11     A  "
     },
     "execution_count": 6,
     "metadata": {},
     "output_type": "execute_result"
    }
   ],
   "source": [
    "scores_clean = scores_raw.dropna()\n",
    "scores_clean.head(10)"
   ]
  },
  {
   "cell_type": "code",
   "execution_count": 7,
   "metadata": {},
   "outputs": [
    {
     "data": {
      "text/plain": "(-87.7812, 0.0, 0.0, 39.1748)"
     },
     "execution_count": 7,
     "metadata": {},
     "output_type": "execute_result"
    }
   ],
   "source": [
    "# Preparing the map\n",
    "\n",
    "BBox = (scores_clean.Longitude.min(), scores_clean.Longitude.max(), \n",
    "        scores_clean.Latitude.min(), scores_clean.Latitude.max())\n",
    "BBox\n",
    "\n",
    "#print(scores_clean.isna().sum())"
   ]
  },
  {
   "cell_type": "code",
   "execution_count": null,
   "metadata": {},
   "outputs": [],
   "source": []
  }
 ],
 "metadata": {
  "kernelspec": {
   "display_name": "Python 3",
   "language": "python",
   "name": "python3"
  },
  "language_info": {
   "codemirror_mode": {
    "name": "ipython",
    "version": 3
   },
   "file_extension": ".py",
   "mimetype": "text/x-python",
   "name": "python",
   "nbconvert_exporter": "python",
   "pygments_lexer": "ipython3",
   "version": "3.7.4-final"
  }
 },
 "nbformat": 4,
 "nbformat_minor": 2
}